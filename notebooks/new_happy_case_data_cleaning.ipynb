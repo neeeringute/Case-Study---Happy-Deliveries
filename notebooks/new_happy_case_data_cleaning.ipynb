{
 "cells": [
  {
   "cell_type": "markdown",
   "id": "2ffdce31-c9ef-4322-bbcd-cc8ab065cc1e",
   "metadata": {},
   "source": [
    "# **Case Study - Happy Deliveries (Ireland's Leading Food Delivery Service)**\n",
    "\n",
    "## **Data Cleaning**\n",
    "\n",
    "### **Cleaning Process**\n",
    "\n",
    "#### **1. Orders Dataset**\n",
    "- **Order Cancellations:** Removed orders with a status of \"CANCELLED\" since these transactions did not contribute to sales.\n",
    "- **Handling Missing Values:** Missing values in `discount_code` and `discount_pc` were filled with \"No Discount\" and `0`, respectively, to indicate orders without discounts.\n",
    "- **Date Formatting:** Converted `order_timestamp` and `delivered_timestamp` columns into `datetime` format for time-based analysis.\n",
    "\n",
    "#### **2. Customers Dataset**\n",
    "- **Outliers:** Removed customer records with unrealistic ages (e.g., ages above 100), which were likely due to data entry errors.\n",
    "\n",
    "### **Managing Incomplete Data**\n",
    "- Missing values in the `delivered_timestamp` column were flagged for further review. These may indicate potential delivery delays or operational issues."
   ]
  },
  {
   "cell_type": "code",
   "execution_count": 1,
   "id": "fa04d796-634a-4eb8-853b-8b64ed11bb99",
   "metadata": {},
   "outputs": [],
   "source": [
    "import pandas as pd\n",
    "import os\n",
    "import numpy as np\n",
    "import matplotlib.pyplot as plt\n",
    "import seaborn as sns\n",
    "import sys \n",
    "module_path = os.path.abspath(os.path.join('..'))\n",
    "if module_path not in sys.path:\n",
    "    sys.path.append(module_path)\n",
    "from src.helpers import identify_missing_data\n",
    "os.getcwd()\n",
    "import warnings\n",
    "warnings.filterwarnings('ignore')"
   ]
  },
  {
   "cell_type": "code",
   "execution_count": 2,
   "id": "4513ddd7-7e4a-4d4c-989f-276e852777fb",
   "metadata": {},
   "outputs": [],
   "source": [
    "# Load the data into DataFrames\n",
    "orders_data = pd.read_csv(\"../data/hd_orders.csv\")\n",
    "\n",
    "customers_data = pd.read_excel(\"../data/hd_customers.xlsx\")"
   ]
  },
  {
   "cell_type": "code",
   "execution_count": 3,
   "id": "a7a2163f-c14e-4938-8be8-3692d51251c5",
   "metadata": {},
   "outputs": [
    {
     "data": {
      "text/html": [
       "<div>\n",
       "<style scoped>\n",
       "    .dataframe tbody tr th:only-of-type {\n",
       "        vertical-align: middle;\n",
       "    }\n",
       "\n",
       "    .dataframe tbody tr th {\n",
       "        vertical-align: top;\n",
       "    }\n",
       "\n",
       "    .dataframe thead th {\n",
       "        text-align: right;\n",
       "    }\n",
       "</style>\n",
       "<table border=\"1\" class=\"dataframe\">\n",
       "  <thead>\n",
       "    <tr style=\"text-align: right;\">\n",
       "      <th></th>\n",
       "      <th>order_id</th>\n",
       "      <th>order_timestamp</th>\n",
       "      <th>delivered_timestamp</th>\n",
       "      <th>driver_id</th>\n",
       "      <th>restaurant_id</th>\n",
       "      <th>cust_id</th>\n",
       "      <th>delivery_region</th>\n",
       "      <th>discount_applied</th>\n",
       "      <th>discount_code</th>\n",
       "      <th>order_total</th>\n",
       "      <th>discount_pc</th>\n",
       "      <th>status</th>\n",
       "    </tr>\n",
       "  </thead>\n",
       "  <tbody>\n",
       "    <tr>\n",
       "      <th>0</th>\n",
       "      <td>100001</td>\n",
       "      <td>26/11/2021 18:22</td>\n",
       "      <td>26/11/2021 18:49</td>\n",
       "      <td>273</td>\n",
       "      <td>105</td>\n",
       "      <td>1016</td>\n",
       "      <td>Dublin</td>\n",
       "      <td>True</td>\n",
       "      <td>BLACKFRIDAY21</td>\n",
       "      <td>69.46</td>\n",
       "      <td>20.0</td>\n",
       "      <td>COMPLETED</td>\n",
       "    </tr>\n",
       "    <tr>\n",
       "      <th>1</th>\n",
       "      <td>100002</td>\n",
       "      <td>11/07/2021 21:23</td>\n",
       "      <td>11/07/2021 21:53</td>\n",
       "      <td>43</td>\n",
       "      <td>219</td>\n",
       "      <td>1017</td>\n",
       "      <td>Cork</td>\n",
       "      <td>False</td>\n",
       "      <td>NaN</td>\n",
       "      <td>69.40</td>\n",
       "      <td>NaN</td>\n",
       "      <td>COMPLETED</td>\n",
       "    </tr>\n",
       "    <tr>\n",
       "      <th>2</th>\n",
       "      <td>100003</td>\n",
       "      <td>27/04/2021 17:28</td>\n",
       "      <td>27/04/2021 17:55</td>\n",
       "      <td>299</td>\n",
       "      <td>48</td>\n",
       "      <td>1019</td>\n",
       "      <td>Dublin</td>\n",
       "      <td>False</td>\n",
       "      <td>NaN</td>\n",
       "      <td>47.16</td>\n",
       "      <td>NaN</td>\n",
       "      <td>COMPLETED</td>\n",
       "    </tr>\n",
       "    <tr>\n",
       "      <th>3</th>\n",
       "      <td>100004</td>\n",
       "      <td>22/02/2021 18:08</td>\n",
       "      <td>22/02/2021 18:35</td>\n",
       "      <td>320</td>\n",
       "      <td>233</td>\n",
       "      <td>1020</td>\n",
       "      <td>Dublin</td>\n",
       "      <td>False</td>\n",
       "      <td>NaN</td>\n",
       "      <td>47.15</td>\n",
       "      <td>NaN</td>\n",
       "      <td>COMPLETED</td>\n",
       "    </tr>\n",
       "    <tr>\n",
       "      <th>4</th>\n",
       "      <td>100005</td>\n",
       "      <td>21/06/2021 18:14</td>\n",
       "      <td>21/06/2021 18:44</td>\n",
       "      <td>41</td>\n",
       "      <td>207</td>\n",
       "      <td>1024</td>\n",
       "      <td>Dublin</td>\n",
       "      <td>False</td>\n",
       "      <td>NaN</td>\n",
       "      <td>47.00</td>\n",
       "      <td>NaN</td>\n",
       "      <td>COMPLETED</td>\n",
       "    </tr>\n",
       "  </tbody>\n",
       "</table>\n",
       "</div>"
      ],
      "text/plain": [
       "   order_id   order_timestamp delivered_timestamp  driver_id  restaurant_id  \\\n",
       "0    100001  26/11/2021 18:22    26/11/2021 18:49        273            105   \n",
       "1    100002  11/07/2021 21:23    11/07/2021 21:53         43            219   \n",
       "2    100003  27/04/2021 17:28    27/04/2021 17:55        299             48   \n",
       "3    100004  22/02/2021 18:08    22/02/2021 18:35        320            233   \n",
       "4    100005  21/06/2021 18:14    21/06/2021 18:44         41            207   \n",
       "\n",
       "   cust_id delivery_region  discount_applied  discount_code  order_total  \\\n",
       "0     1016          Dublin              True  BLACKFRIDAY21        69.46   \n",
       "1     1017            Cork             False            NaN        69.40   \n",
       "2     1019          Dublin             False            NaN        47.16   \n",
       "3     1020          Dublin             False            NaN        47.15   \n",
       "4     1024          Dublin             False            NaN        47.00   \n",
       "\n",
       "   discount_pc     status  \n",
       "0         20.0  COMPLETED  \n",
       "1          NaN  COMPLETED  \n",
       "2          NaN  COMPLETED  \n",
       "3          NaN  COMPLETED  \n",
       "4          NaN  COMPLETED  "
      ]
     },
     "execution_count": 3,
     "metadata": {},
     "output_type": "execute_result"
    }
   ],
   "source": [
    "# Preview the first few rows orders datasets\n",
    "orders_data.head()"
   ]
  },
  {
   "cell_type": "code",
   "execution_count": 5,
   "id": "b33d5090-cf1f-4301-92a4-2c2deeb72068",
   "metadata": {},
   "outputs": [
    {
     "name": "stdout",
     "output_type": "stream",
     "text": [
      "<class 'pandas.core.frame.DataFrame'>\n",
      "RangeIndex: 998 entries, 0 to 997\n",
      "Data columns (total 12 columns):\n",
      " #   Column               Non-Null Count  Dtype  \n",
      "---  ------               --------------  -----  \n",
      " 0   order_id             998 non-null    int64  \n",
      " 1   order_timestamp      998 non-null    object \n",
      " 2   delivered_timestamp  991 non-null    object \n",
      " 3   driver_id            998 non-null    int64  \n",
      " 4   restaurant_id        998 non-null    int64  \n",
      " 5   cust_id              998 non-null    int64  \n",
      " 6   delivery_region      998 non-null    object \n",
      " 7   discount_applied     998 non-null    bool   \n",
      " 8   discount_code        92 non-null     object \n",
      " 9   order_total          998 non-null    float64\n",
      " 10  discount_pc          92 non-null     float64\n",
      " 11  status               998 non-null    object \n",
      "dtypes: bool(1), float64(2), int64(4), object(5)\n",
      "memory usage: 86.9+ KB\n"
     ]
    }
   ],
   "source": [
    "# Get a concise summary of the orders_data DataFrame\n",
    "orders_data.info()"
   ]
  },
  {
   "cell_type": "markdown",
   "id": "c133d942-5e8f-40de-ac67-e1f16a848efc",
   "metadata": {},
   "source": [
    "##### <u>1. Missing Values:</U>\n",
    "delivered_timestamp: There are 7 missing values. This could indicate orders that were not delivered or incomplete records.\n",
    "discount_code and discount_pc: These columns have many missing values (only 92 non-null entries), meaning most orders did not have a discount applied.\n",
    "\n",
    "##### <u>2. Data Types:</U>\n",
    "order_timestamp and delivered_timestamp: These are object types, which means they are stored as strings. For accurate analysis, these should be converted to datetime format to allow time-based operations.\n",
    "\n",
    "##### <u>3. Potential Issues to Investigate:</U>\n",
    "Missing Discounts: It seems most orders did not use a discount, but you need to ensure that missing values in discount_code and discount_pc are filled with appropriate defaults (e.g., \"No Discount\" for discount_code and 0 for discount_pc).\n",
    "Missing Delivery Timestamps: For the missing delivered_timestamp, you might need to investigate whether these orders were incomplete or cancelled (or if any other information explains why they weren't delivered)."
   ]
  },
  {
   "cell_type": "code",
   "execution_count": 6,
   "id": "876ca35d-648e-4162-9bda-3fd831432ed4",
   "metadata": {},
   "outputs": [
    {
     "data": {
      "text/plain": [
       "(998, 12)"
      ]
     },
     "execution_count": 6,
     "metadata": {},
     "output_type": "execute_result"
    }
   ],
   "source": [
    "orders_data.shape"
   ]
  },
  {
   "cell_type": "code",
   "execution_count": 7,
   "id": "30ff1e52-d5ea-4a3e-bdcb-29a6f20f53e7",
   "metadata": {},
   "outputs": [
    {
     "data": {
      "text/plain": [
       "order_timestamp        datetime64[ns]\n",
       "delivered_timestamp    datetime64[ns]\n",
       "dtype: object"
      ]
     },
     "execution_count": 7,
     "metadata": {},
     "output_type": "execute_result"
    }
   ],
   "source": [
    "# Convert 'order_timestamp' and 'delivered_timestamp' to datetime format\n",
    "orders_data['order_timestamp'] = pd.to_datetime(orders_data['order_timestamp'], format=\"%d/%m/%Y %H:%M\")\n",
    "orders_data['delivered_timestamp'] = pd.to_datetime(orders_data['delivered_timestamp'], format=\"%d/%m/%Y %H:%M\")\n",
    "\n",
    "# Check if the conversion was successful by displaying the data types of the columns\n",
    "orders_data[['order_timestamp', 'delivered_timestamp']].dtypes\n"
   ]
  },
  {
   "cell_type": "markdown",
   "id": "e063b8dc-a730-47b2-b08c-6d6e779d0e76",
   "metadata": {},
   "source": [
    "#### 1: Check for Missing Values in the Entire DataFrame"
   ]
  },
  {
   "cell_type": "code",
   "execution_count": 8,
   "id": "9f0bda29-305c-4492-93cd-bc7ecd04935a",
   "metadata": {},
   "outputs": [
    {
     "data": {
      "text/plain": [
       "order_id                 0\n",
       "order_timestamp          0\n",
       "delivered_timestamp      7\n",
       "driver_id                0\n",
       "restaurant_id            0\n",
       "cust_id                  0\n",
       "delivery_region          0\n",
       "discount_applied         0\n",
       "discount_code          906\n",
       "order_total              0\n",
       "discount_pc            906\n",
       "status                   0\n",
       "dtype: int64"
      ]
     },
     "execution_count": 8,
     "metadata": {},
     "output_type": "execute_result"
    }
   ],
   "source": [
    "# Check for missing values in the entire dataset\n",
    "missing_values = orders_data.isnull().sum()\n",
    "\n",
    "# Display the count of missing values per column\n",
    "missing_values\n"
   ]
  },
  {
   "cell_type": "markdown",
   "id": "7b2a233c-99c6-4abd-a8c3-aa131823fd03",
   "metadata": {},
   "source": [
    "##### <u> Missing Data Overview:</U>\n",
    "* delivered_timestamp: 7 missing values.\n",
    "\n",
    "* These could represent orders that were not delivered, incomplete data, or data entry errors.\n",
    "discount_code and discount_pc: 906 missing values.\n",
    "\n",
    "* This suggests that most orders did not have any discount applied, which is normal. However, we can fill these missing values with defaults (e.g., \"No Discount\" and 0 for discount_pc)."
   ]
  },
  {
   "cell_type": "code",
   "execution_count": 9,
   "id": "3c9f34b4-6043-433c-9fdc-d12aba402529",
   "metadata": {},
   "outputs": [
    {
     "data": {
      "text/html": [
       "<div>\n",
       "<style scoped>\n",
       "    .dataframe tbody tr th:only-of-type {\n",
       "        vertical-align: middle;\n",
       "    }\n",
       "\n",
       "    .dataframe tbody tr th {\n",
       "        vertical-align: top;\n",
       "    }\n",
       "\n",
       "    .dataframe thead th {\n",
       "        text-align: right;\n",
       "    }\n",
       "</style>\n",
       "<table border=\"1\" class=\"dataframe\">\n",
       "  <thead>\n",
       "    <tr style=\"text-align: right;\">\n",
       "      <th></th>\n",
       "      <th>variable</th>\n",
       "      <th>percent_missing</th>\n",
       "      <th>data_type</th>\n",
       "    </tr>\n",
       "  </thead>\n",
       "  <tbody>\n",
       "    <tr>\n",
       "      <th>0</th>\n",
       "      <td>discount_code</td>\n",
       "      <td>90.78</td>\n",
       "      <td>object</td>\n",
       "    </tr>\n",
       "    <tr>\n",
       "      <th>1</th>\n",
       "      <td>discount_pc</td>\n",
       "      <td>90.78</td>\n",
       "      <td>float64</td>\n",
       "    </tr>\n",
       "    <tr>\n",
       "      <th>2</th>\n",
       "      <td>delivered_timestamp</td>\n",
       "      <td>0.70</td>\n",
       "      <td>datetime64[ns]</td>\n",
       "    </tr>\n",
       "  </tbody>\n",
       "</table>\n",
       "</div>"
      ],
      "text/plain": [
       "              variable  percent_missing       data_type\n",
       "0        discount_code            90.78          object\n",
       "1          discount_pc            90.78         float64\n",
       "2  delivered_timestamp             0.70  datetime64[ns]"
      ]
     },
     "execution_count": 9,
     "metadata": {},
     "output_type": "execute_result"
    }
   ],
   "source": [
    "identify_missing_data(orders_data)"
   ]
  },
  {
   "cell_type": "markdown",
   "id": "2e02b4dc-19fb-453d-903e-efe9a79d4fe9",
   "metadata": {},
   "source": [
    "* discount_code (90.78% missing):\n",
    "\n",
    "Data Type: object (likely string)\n",
    "Action: Most orders do not use discount codes, so it's reasonable to fill these missing values with \"No Discount\" or a similar placeholder.\n",
    "\n",
    "* discount_pc (90.78% missing):\n",
    "\n",
    "Data Type: float64\n",
    "Action: Since the missing values likely represent orders without discounts, you can fill them with 0, indicating no discount.\n",
    "\n",
    "* delivered_timestamp (0.70% missing):\n",
    "\n",
    "Data Type: datetime64[ns]\n",
    "Action: As seen earlier, these missing timestamps are for cancelled orders, which should be removed from the dataset."
   ]
  },
  {
   "cell_type": "code",
   "execution_count": 13,
   "id": "85365750-f302-42ee-92e2-28f5cfdc36d8",
   "metadata": {},
   "outputs": [
    {
     "data": {
      "text/plain": [
       "(Empty DataFrame\n",
       " Columns: [order_id, order_timestamp, delivered_timestamp, driver_id, restaurant_id, cust_id, delivery_region, discount_applied, discount_code, order_total, discount_pc, status]\n",
       " Index: [],\n",
       "      order_id     order_timestamp delivered_timestamp  driver_id  \\\n",
       " 30     100031 2021-07-22 23:42:00                 NaT         66   \n",
       " 64     100065 2021-03-02 20:12:00                 NaT        204   \n",
       " 116    100117 2021-10-17 17:34:00                 NaT        232   \n",
       " 175    100176 2021-10-08 18:11:00                 NaT        216   \n",
       " 206    100207 2021-11-10 21:35:00                 NaT        353   \n",
       " 241    100242 2021-01-01 20:16:00                 NaT        288   \n",
       " 954    100955 2022-12-15 17:03:00                 NaT        368   \n",
       " \n",
       "      restaurant_id  cust_id delivery_region  discount_applied discount_code  \\\n",
       " 30              63     1081            Cork             False           NaN   \n",
       " 64             241     1153          Dublin             False           NaN   \n",
       " 116            188     1190           Kerry             False           NaN   \n",
       " 175             20     1363            Cork             False           NaN   \n",
       " 206              3     1393          Dublin             False           NaN   \n",
       " 241            233     1285          Dublin             False           NaN   \n",
       " 954            104     1073           Sligo             False           NaN   \n",
       " \n",
       "      order_total  discount_pc     status  \n",
       " 30         42.87          NaN  CANCELLED  \n",
       " 64         39.11          NaN  CANCELLED  \n",
       " 116        33.02          NaN  CANCELLED  \n",
       " 175        28.62          NaN  CANCELLED  \n",
       " 206        25.03          NaN  CANCELLED  \n",
       " 241        22.73          NaN  CANCELLED  \n",
       " 954        29.33          NaN  CANCELLED  )"
      ]
     },
     "execution_count": 13,
     "metadata": {},
     "output_type": "execute_result"
    }
   ],
   "source": [
    "# Find rows where order_timestamp is missing\n",
    "missing_order_rows = orders_data[orders_data['order_timestamp'].isnull()]\n",
    "\n",
    "# Find rows where delivered_timestamp is missing\n",
    "missing_delivery_rows = orders_data[orders_data['delivered_timestamp'].isnull()]\n",
    "\n",
    "# Display the rows with missing timestamps\n",
    "missing_order_rows, missing_delivery_rows"
   ]
  },
  {
   "cell_type": "markdown",
   "id": "64217e8c-3022-476e-bc23-a82192f6077d",
   "metadata": {},
   "source": [
    "From your output, it looks like all rows with missing delivered_timestamp have a \"CANCELLED\" status. This makes sense because cancelled orders would not have a valid delivery timestamp. Since these orders are cancelled, they should be removed from the dataset as they do not represent completed transactions."
   ]
  },
  {
   "cell_type": "code",
   "execution_count": 11,
   "id": "fe006625-299d-4198-8448-084ad87cc262",
   "metadata": {},
   "outputs": [
    {
     "data": {
      "text/plain": [
       "order_id                 0\n",
       "order_timestamp          0\n",
       "delivered_timestamp      0\n",
       "driver_id                0\n",
       "restaurant_id            0\n",
       "cust_id                  0\n",
       "delivery_region          0\n",
       "discount_applied         0\n",
       "discount_code          899\n",
       "order_total              0\n",
       "discount_pc            899\n",
       "status                   0\n",
       "dtype: int64"
      ]
     },
     "execution_count": 11,
     "metadata": {},
     "output_type": "execute_result"
    }
   ],
   "source": [
    "# Remove rows where the status is 'CANCELLED'\n",
    "orders_data_cleaned = orders_data[orders_data['status'] != 'CANCELLED']\n",
    "\n",
    "# Verify that cancelled orders are removed\n",
    "orders_data_cleaned.isnull().sum()"
   ]
  },
  {
   "cell_type": "code",
   "execution_count": 14,
   "id": "895d0237-6e72-451a-b90a-85aa527f9a4b",
   "metadata": {},
   "outputs": [
    {
     "data": {
      "text/plain": [
       "discount_code\n",
       "BLACKFRIDAY22    46\n",
       "BLACKFRIDAY21    25\n",
       "HAPPYBIRTHDAY    21\n",
       "Name: count, dtype: int64"
      ]
     },
     "execution_count": 14,
     "metadata": {},
     "output_type": "execute_result"
    }
   ],
   "source": [
    "# Count the occurrences of each discount code in the orders dataset\n",
    "discount_code_counts = orders_data['discount_code'].value_counts()\n",
    "\n",
    "# Display the result\n",
    "discount_code_counts"
   ]
  },
  {
   "cell_type": "code",
   "execution_count": 15,
   "id": "e7153f20-9435-45dd-8f38-7eaf32b84594",
   "metadata": {},
   "outputs": [
    {
     "data": {
      "text/plain": [
       "discount_pc\n",
       "20.0    71\n",
       "10.0    21\n",
       "Name: count, dtype: int64"
      ]
     },
     "execution_count": 15,
     "metadata": {},
     "output_type": "execute_result"
    }
   ],
   "source": [
    "# Count the occurrences of each discount percentage in the orders dataset\n",
    "discount_pc_counts = orders_data['discount_pc'].value_counts()\n",
    "\n",
    "# Display the result\n",
    "discount_pc_counts"
   ]
  },
  {
   "cell_type": "code",
   "execution_count": 16,
   "id": "8d063e50-d6c1-4f76-b777-f01b251b5054",
   "metadata": {},
   "outputs": [
    {
     "data": {
      "text/plain": [
       "discount_code    0\n",
       "discount_pc      0\n",
       "dtype: int64"
      ]
     },
     "execution_count": 16,
     "metadata": {},
     "output_type": "execute_result"
    }
   ],
   "source": [
    "# Fill missing values in discount_code with 'No Discount'\n",
    "orders_data_cleaned['discount_code'].fillna('No Discount', inplace=True)\n",
    "\n",
    "# Fill missing values in discount_pc with 0 (indicating no discount)\n",
    "orders_data_cleaned['discount_pc'].fillna(0, inplace=True)\n",
    "\n",
    "# Verify that the missing values are filled\n",
    "orders_data_cleaned[['discount_code', 'discount_pc']].isnull().sum()\n"
   ]
  },
  {
   "cell_type": "code",
   "execution_count": 18,
   "id": "ca2621e1-f6cb-4eb7-a71b-258a03862dd2",
   "metadata": {},
   "outputs": [
    {
     "data": {
      "text/plain": [
       "discount_code\n",
       "No Discount      899\n",
       "BLACKFRIDAY22     46\n",
       "BLACKFRIDAY21     25\n",
       "HAPPYBIRTHDAY     21\n",
       "Name: count, dtype: int64"
      ]
     },
     "execution_count": 18,
     "metadata": {},
     "output_type": "execute_result"
    }
   ],
   "source": [
    "orders_data_cleaned['discount_code'].value_counts()"
   ]
  },
  {
   "cell_type": "code",
   "execution_count": 17,
   "id": "454b6753-7108-4645-8db3-2ad5e90b9db0",
   "metadata": {},
   "outputs": [
    {
     "data": {
      "text/plain": [
       "discount_pc\n",
       "0.0     899\n",
       "20.0     71\n",
       "10.0     21\n",
       "Name: count, dtype: int64"
      ]
     },
     "execution_count": 17,
     "metadata": {},
     "output_type": "execute_result"
    }
   ],
   "source": [
    "orders_data_cleaned['discount_pc'].value_counts()"
   ]
  },
  {
   "cell_type": "code",
   "execution_count": 19,
   "id": "8c8eaf77-a1b0-4c3c-9712-8cb5e1c481dd",
   "metadata": {},
   "outputs": [
    {
     "data": {
      "text/plain": [
       "order_id               0\n",
       "order_timestamp        0\n",
       "delivered_timestamp    0\n",
       "driver_id              0\n",
       "restaurant_id          0\n",
       "cust_id                0\n",
       "delivery_region        0\n",
       "discount_applied       0\n",
       "discount_code          0\n",
       "order_total            0\n",
       "discount_pc            0\n",
       "status                 0\n",
       "dtype: int64"
      ]
     },
     "execution_count": 19,
     "metadata": {},
     "output_type": "execute_result"
    }
   ],
   "source": [
    "orders_data_cleaned.isnull().sum()"
   ]
  },
  {
   "cell_type": "code",
   "execution_count": 20,
   "id": "d504345f-9bef-458e-a04c-cc905f4283a9",
   "metadata": {},
   "outputs": [
    {
     "data": {
      "text/plain": [
       "0"
      ]
     },
     "execution_count": 20,
     "metadata": {},
     "output_type": "execute_result"
    }
   ],
   "source": [
    "# Check if data has duplicated rows.\n",
    "orders_data_cleaned.duplicated().sum()"
   ]
  },
  {
   "cell_type": "code",
   "execution_count": 21,
   "id": "a265161e-abd4-4abd-9d27-9893da7f51ad",
   "metadata": {},
   "outputs": [
    {
     "name": "stdout",
     "output_type": "stream",
     "text": [
      "<class 'pandas.core.frame.DataFrame'>\n",
      "Index: 991 entries, 0 to 997\n",
      "Data columns (total 12 columns):\n",
      " #   Column               Non-Null Count  Dtype         \n",
      "---  ------               --------------  -----         \n",
      " 0   order_id             991 non-null    int64         \n",
      " 1   order_timestamp      991 non-null    datetime64[ns]\n",
      " 2   delivered_timestamp  991 non-null    datetime64[ns]\n",
      " 3   driver_id            991 non-null    int64         \n",
      " 4   restaurant_id        991 non-null    int64         \n",
      " 5   cust_id              991 non-null    int64         \n",
      " 6   delivery_region      991 non-null    object        \n",
      " 7   discount_applied     991 non-null    bool          \n",
      " 8   discount_code        991 non-null    object        \n",
      " 9   order_total          991 non-null    float64       \n",
      " 10  discount_pc          991 non-null    float64       \n",
      " 11  status               991 non-null    object        \n",
      "dtypes: bool(1), datetime64[ns](2), float64(2), int64(4), object(3)\n",
      "memory usage: 93.9+ KB\n"
     ]
    }
   ],
   "source": [
    "orders_data_cleaned.info()"
   ]
  },
  {
   "cell_type": "code",
   "execution_count": 22,
   "id": "d5446f59-f4fe-4c0d-9622-2d49fa7dab43",
   "metadata": {},
   "outputs": [
    {
     "name": "stdout",
     "output_type": "stream",
     "text": [
      "orginal data frame (998, 12)\n",
      "transformed data frame (991, 12)\n"
     ]
    }
   ],
   "source": [
    "print(\"orginal data frame\", orders_data.shape)\n",
    "print(\"transformed data frame\", orders_data_cleaned.shape)"
   ]
  },
  {
   "cell_type": "code",
   "execution_count": 23,
   "id": "62fa3c89-571e-4b36-bd17-a29cee233597",
   "metadata": {},
   "outputs": [],
   "source": [
    "# Saving the orders_data to the specified path \"../data/hd_orders.csv\"\n",
    "#orders_data_cleaned.to_csv(\"../data/orders_cleaned.csv\", index=False)"
   ]
  },
  {
   "cell_type": "markdown",
   "id": "81b0613c-e389-4088-bbd4-9ec18b03ccad",
   "metadata": {},
   "source": [
    "##### Data cleaning for the customers_data"
   ]
  },
  {
   "cell_type": "code",
   "execution_count": 24,
   "id": "1b416a8a-02ad-458e-a0a5-278ccd4284ce",
   "metadata": {},
   "outputs": [
    {
     "data": {
      "text/html": [
       "<div>\n",
       "<style scoped>\n",
       "    .dataframe tbody tr th:only-of-type {\n",
       "        vertical-align: middle;\n",
       "    }\n",
       "\n",
       "    .dataframe tbody tr th {\n",
       "        vertical-align: top;\n",
       "    }\n",
       "\n",
       "    .dataframe thead th {\n",
       "        text-align: right;\n",
       "    }\n",
       "</style>\n",
       "<table border=\"1\" class=\"dataframe\">\n",
       "  <thead>\n",
       "    <tr style=\"text-align: right;\">\n",
       "      <th></th>\n",
       "      <th>id</th>\n",
       "      <th>first_name</th>\n",
       "      <th>last_name</th>\n",
       "      <th>age</th>\n",
       "      <th>city</th>\n",
       "      <th>email</th>\n",
       "    </tr>\n",
       "  </thead>\n",
       "  <tbody>\n",
       "    <tr>\n",
       "      <th>0</th>\n",
       "      <td>1001</td>\n",
       "      <td>Samuel</td>\n",
       "      <td>Zavala</td>\n",
       "      <td>139</td>\n",
       "      <td>Dublin</td>\n",
       "      <td>Zavala_Samuel46@xfinity.com</td>\n",
       "    </tr>\n",
       "    <tr>\n",
       "      <th>1</th>\n",
       "      <td>1002</td>\n",
       "      <td>Sara</td>\n",
       "      <td>Lee</td>\n",
       "      <td>33</td>\n",
       "      <td>Dublin</td>\n",
       "      <td>Sara.L@hotmail.com</td>\n",
       "    </tr>\n",
       "    <tr>\n",
       "      <th>2</th>\n",
       "      <td>1003</td>\n",
       "      <td>Michael</td>\n",
       "      <td>Davidson</td>\n",
       "      <td>23</td>\n",
       "      <td>Dublin</td>\n",
       "      <td>MichaelDavidson82@att.com</td>\n",
       "    </tr>\n",
       "    <tr>\n",
       "      <th>3</th>\n",
       "      <td>1004</td>\n",
       "      <td>Willie</td>\n",
       "      <td>Sims</td>\n",
       "      <td>29</td>\n",
       "      <td>Sligo</td>\n",
       "      <td>Willie_S@yahoo.com</td>\n",
       "    </tr>\n",
       "    <tr>\n",
       "      <th>4</th>\n",
       "      <td>1005</td>\n",
       "      <td>Carly</td>\n",
       "      <td>Armstrong</td>\n",
       "      <td>22</td>\n",
       "      <td>Mayo</td>\n",
       "      <td>CArmstrong@mail.com</td>\n",
       "    </tr>\n",
       "  </tbody>\n",
       "</table>\n",
       "</div>"
      ],
      "text/plain": [
       "     id first_name  last_name  age    city                        email\n",
       "0  1001     Samuel     Zavala  139  Dublin  Zavala_Samuel46@xfinity.com\n",
       "1  1002       Sara        Lee   33  Dublin           Sara.L@hotmail.com\n",
       "2  1003    Michael   Davidson   23  Dublin    MichaelDavidson82@att.com\n",
       "3  1004     Willie       Sims   29   Sligo           Willie_S@yahoo.com\n",
       "4  1005      Carly  Armstrong   22    Mayo          CArmstrong@mail.com"
      ]
     },
     "execution_count": 24,
     "metadata": {},
     "output_type": "execute_result"
    }
   ],
   "source": [
    "# Preview the first few rows of customer datasets\n",
    "customers_data.head()"
   ]
  },
  {
   "cell_type": "code",
   "execution_count": 18,
   "id": "aa4afd95-a893-4046-8a7f-45868d25bd37",
   "metadata": {},
   "outputs": [
    {
     "name": "stdout",
     "output_type": "stream",
     "text": [
      "<class 'pandas.core.frame.DataFrame'>\n",
      "RangeIndex: 406 entries, 0 to 405\n",
      "Data columns (total 6 columns):\n",
      " #   Column      Non-Null Count  Dtype \n",
      "---  ------      --------------  ----- \n",
      " 0   id          406 non-null    int64 \n",
      " 1   first_name  406 non-null    object\n",
      " 2   last_name   406 non-null    object\n",
      " 3   age         406 non-null    int64 \n",
      " 4   city        406 non-null    object\n",
      " 5   email       406 non-null    object\n",
      "dtypes: int64(2), object(4)\n",
      "memory usage: 19.2+ KB\n"
     ]
    }
   ],
   "source": [
    "# Get a concise summary of the customers_data DataFrame\n",
    "customers_data.info()"
   ]
  },
  {
   "cell_type": "code",
   "execution_count": 19,
   "id": "a22cbc93-ea73-42f4-b062-5ff8d0a473cd",
   "metadata": {},
   "outputs": [
    {
     "data": {
      "text/plain": [
       "id            0\n",
       "first_name    0\n",
       "last_name     0\n",
       "age           0\n",
       "city          0\n",
       "email         0\n",
       "dtype: int64"
      ]
     },
     "execution_count": 19,
     "metadata": {},
     "output_type": "execute_result"
    }
   ],
   "source": [
    "# Check for missing values in the entire dataset\n",
    "missing_values =customers_data.isnull().sum()\n",
    "\n",
    "# Display the count of missing values per column\n",
    "missing_values"
   ]
  },
  {
   "cell_type": "code",
   "execution_count": 21,
   "id": "41293a20-7caf-4b0d-ac07-be7a33889414",
   "metadata": {},
   "outputs": [
    {
     "data": {
      "text/plain": [
       "0"
      ]
     },
     "execution_count": 21,
     "metadata": {},
     "output_type": "execute_result"
    }
   ],
   "source": [
    "customers_data.duplicated().sum()"
   ]
  },
  {
   "cell_type": "code",
   "execution_count": 25,
   "id": "21464ca5-db64-4a33-aac8-d8a44de8cf99",
   "metadata": {},
   "outputs": [
    {
     "name": "stdout",
     "output_type": "stream",
     "text": [
      "                id         age\n",
      "count   406.000000  406.000000\n",
      "mean   1203.500000   29.354680\n",
      "std     117.346353   14.347274\n",
      "min    1001.000000    6.000000\n",
      "25%    1102.250000   22.000000\n",
      "50%    1203.500000   26.000000\n",
      "75%    1304.750000   31.000000\n",
      "max    1406.000000  160.000000\n"
     ]
    }
   ],
   "source": [
    "# Describe the numerical columns in the customers DataFrame\n",
    "customers_summary = customers_data.describe()\n",
    "\n",
    "# Display the summary\n",
    "print(customers_summary)"
   ]
  },
  {
   "cell_type": "markdown",
   "id": "a519d17b-11ba-47d1-b39d-fdf8c7155899",
   "metadata": {},
   "source": [
    " I want to inspect the age column for outliers or input errors (e.g., ages like 160) and clean that up."
   ]
  },
  {
   "cell_type": "code",
   "execution_count": 26,
   "id": "f274f105-43f4-4648-98a0-f9e4891f0ba1",
   "metadata": {},
   "outputs": [
    {
     "data": {
      "image/png": "[encoded data removed]",
      "text/plain": [
       "<Figure size 800x500 with 1 Axes>"
      ]
     },
     "metadata": {},
     "output_type": "display_data"
    }
   ],
   "source": [
    "# Plotting the age distribution as a histogram\n",
    "plt.figure(figsize=(8, 5))\n",
    "plt.hist(customers_data['age'], bins=20, edgecolor='black', color='skyblue')\n",
    "plt.title('Age Distribution of Customers')\n",
    "plt.xlabel('Age')\n",
    "plt.ylabel('Frequency')\n",
    "plt.grid(axis='y', alpha=0.75)\n",
    "\n",
    "# Show the plot\n",
    "plt.show()"
   ]
  },
  {
   "cell_type": "markdown",
   "id": "d20cade0-e8c9-41fd-8801-351d9b76d2f3",
   "metadata": {},
   "source": [
    "The age distribution shows a concentration of customers between the ages of 20 and 40, with some outliers above 100 years of age, particularly the one at 160 years old. This is most likely a data entry error and should be addressed as part of data cleaning."
   ]
  },
  {
   "cell_type": "code",
   "execution_count": 28,
   "id": "0d18f512-27e7-481c-8e32-6f85b594bea2",
   "metadata": {},
   "outputs": [
    {
     "data": {
      "text/plain": [
       "age\n",
       "22     41\n",
       "23     35\n",
       "21     30\n",
       "24     26\n",
       "26     26\n",
       "28     26\n",
       "30     23\n",
       "31     21\n",
       "25     19\n",
       "33     19\n",
       "27     15\n",
       "32     14\n",
       "29     13\n",
       "20     13\n",
       "34     13\n",
       "19     11\n",
       "18      8\n",
       "37      5\n",
       "35      3\n",
       "58      3\n",
       "43      2\n",
       "36      2\n",
       "55      2\n",
       "41      2\n",
       "45      2\n",
       "38      2\n",
       "6       2\n",
       "42      2\n",
       "59      2\n",
       "68      2\n",
       "67      2\n",
       "49      2\n",
       "60      1\n",
       "62      1\n",
       "40      1\n",
       "46      1\n",
       "75      1\n",
       "61      1\n",
       "70      1\n",
       "139     1\n",
       "44      1\n",
       "57      1\n",
       "53      1\n",
       "47      1\n",
       "54      1\n",
       "8       1\n",
       "150     1\n",
       "66      1\n",
       "71      1\n",
       "160     1\n",
       "Name: count, dtype: int64"
      ]
     },
     "execution_count": 28,
     "metadata": {},
     "output_type": "execute_result"
    }
   ],
   "source": [
    "customers_data['age'].value_counts()"
   ]
  },
  {
   "cell_type": "code",
   "execution_count": 29,
   "id": "0738649b-f2f8-4833-9ce6-76726db76f36",
   "metadata": {},
   "outputs": [
    {
     "data": {
      "image/png": "[encoded data removed]",
      "text/plain": [
       "<Figure size 640x480 with 1 Axes>"
      ]
     },
     "metadata": {},
     "output_type": "display_data"
    }
   ],
   "source": [
    "sns.boxplot(y=\"age\", data=customers_data)\n",
    "plt.show;"
   ]
  },
  {
   "cell_type": "markdown",
   "id": "28629b1c-5bde-4e63-b071-c5d6ba16ed59",
   "metadata": {},
   "source": [
    "Main Age Distribution: The majority of customer ages are concentrated between approximately 20 and 40 years old, with a few data points extending beyond this range.\n",
    "\n",
    "Outliers:\n",
    "There are extreme outliers above the 100-year mark (e.g., 139, 150, 160) as well as some smaller outliers below the main range (around 6 and 8 years old).\n",
    "\n",
    "These extreme ages are likely errors and should be handled."
   ]
  },
  {
   "cell_type": "code",
   "execution_count": 31,
   "id": "4099bdde-8d75-463f-b0d6-bea59725c7c8",
   "metadata": {},
   "outputs": [
    {
     "data": {
      "text/html": [
       "<div>\n",
       "<style scoped>\n",
       "    .dataframe tbody tr th:only-of-type {\n",
       "        vertical-align: middle;\n",
       "    }\n",
       "\n",
       "    .dataframe tbody tr th {\n",
       "        vertical-align: top;\n",
       "    }\n",
       "\n",
       "    .dataframe thead th {\n",
       "        text-align: right;\n",
       "    }\n",
       "</style>\n",
       "<table border=\"1\" class=\"dataframe\">\n",
       "  <thead>\n",
       "    <tr style=\"text-align: right;\">\n",
       "      <th></th>\n",
       "      <th>id</th>\n",
       "      <th>first_name</th>\n",
       "      <th>last_name</th>\n",
       "      <th>age</th>\n",
       "      <th>city</th>\n",
       "      <th>email</th>\n",
       "    </tr>\n",
       "  </thead>\n",
       "  <tbody>\n",
       "    <tr>\n",
       "      <th>0</th>\n",
       "      <td>1001</td>\n",
       "      <td>Samuel</td>\n",
       "      <td>Zavala</td>\n",
       "      <td>139</td>\n",
       "      <td>Dublin</td>\n",
       "      <td>Zavala_Samuel46@xfinity.com</td>\n",
       "    </tr>\n",
       "    <tr>\n",
       "      <th>30</th>\n",
       "      <td>1031</td>\n",
       "      <td>Jessica</td>\n",
       "      <td>Hendricks</td>\n",
       "      <td>150</td>\n",
       "      <td>Dublin</td>\n",
       "      <td>Jessica.H85@xfinity.com</td>\n",
       "    </tr>\n",
       "    <tr>\n",
       "      <th>59</th>\n",
       "      <td>1060</td>\n",
       "      <td>Amy</td>\n",
       "      <td>Farmer</td>\n",
       "      <td>8</td>\n",
       "      <td>Kerry</td>\n",
       "      <td>Farmer.Amy@verizon.com</td>\n",
       "    </tr>\n",
       "    <tr>\n",
       "      <th>70</th>\n",
       "      <td>1071</td>\n",
       "      <td>David</td>\n",
       "      <td>Gibson</td>\n",
       "      <td>160</td>\n",
       "      <td>Dublin</td>\n",
       "      <td>DavidGibson@xfinity.com</td>\n",
       "    </tr>\n",
       "    <tr>\n",
       "      <th>102</th>\n",
       "      <td>1103</td>\n",
       "      <td>Andrew</td>\n",
       "      <td>Craig</td>\n",
       "      <td>6</td>\n",
       "      <td>Dublin</td>\n",
       "      <td>Andrew.C74@yahoo.com</td>\n",
       "    </tr>\n",
       "    <tr>\n",
       "      <th>164</th>\n",
       "      <td>1165</td>\n",
       "      <td>Christopher</td>\n",
       "      <td>Ramsey</td>\n",
       "      <td>6</td>\n",
       "      <td>Waterford</td>\n",
       "      <td>Ramsey_Christopher@hotmail.com</td>\n",
       "    </tr>\n",
       "  </tbody>\n",
       "</table>\n",
       "</div>"
      ],
      "text/plain": [
       "       id   first_name  last_name  age       city  \\\n",
       "0    1001       Samuel     Zavala  139     Dublin   \n",
       "30   1031      Jessica  Hendricks  150     Dublin   \n",
       "59   1060          Amy     Farmer    8      Kerry   \n",
       "70   1071        David     Gibson  160     Dublin   \n",
       "102  1103       Andrew      Craig    6     Dublin   \n",
       "164  1165  Christopher     Ramsey    6  Waterford   \n",
       "\n",
       "                              email  \n",
       "0       Zavala_Samuel46@xfinity.com  \n",
       "30          Jessica.H85@xfinity.com  \n",
       "59           Farmer.Amy@verizon.com  \n",
       "70          DavidGibson@xfinity.com  \n",
       "102            Andrew.C74@yahoo.com  \n",
       "164  Ramsey_Christopher@hotmail.com  "
      ]
     },
     "execution_count": 31,
     "metadata": {},
     "output_type": "execute_result"
    }
   ],
   "source": [
    "# Filter for customers with age less than 18 or greater than 80\n",
    "outliers = customers_data[(customers_data['age'] < 18) | (customers_data['age'] > 80)]\n",
    "\n",
    "# Display the outliers\n",
    "outliers"
   ]
  },
  {
   "cell_type": "code",
   "execution_count": 33,
   "id": "cd48fbfb-8993-4bdf-b46a-762452aac83c",
   "metadata": {},
   "outputs": [
    {
     "data": {
      "text/plain": [
       "(18.0, 70.94999999999999)"
      ]
     },
     "execution_count": 33,
     "metadata": {},
     "output_type": "execute_result"
    }
   ],
   "source": [
    "# Calculate the 1st and 99th percentile values for the 'age' column\n",
    "min_threshold, max_threshold = customers_data['age'].quantile([0.01, 0.99])\n",
    "\n",
    "# Display the calculated thresholds\n",
    "min_threshold, max_threshold"
   ]
  },
  {
   "cell_type": "code",
   "execution_count": 35,
   "id": "f0727691-b975-4460-8d69-be3afeed187d",
   "metadata": {},
   "outputs": [
    {
     "name": "stdout",
     "output_type": "stream",
     "text": [
      "<class 'pandas.core.frame.DataFrame'>\n",
      "Index: 400 entries, 1 to 405\n",
      "Data columns (total 6 columns):\n",
      " #   Column      Non-Null Count  Dtype \n",
      "---  ------      --------------  ----- \n",
      " 0   id          400 non-null    int64 \n",
      " 1   first_name  400 non-null    object\n",
      " 2   last_name   400 non-null    object\n",
      " 3   age         400 non-null    int64 \n",
      " 4   city        400 non-null    object\n",
      " 5   email       400 non-null    object\n",
      "dtypes: int64(2), object(4)\n",
      "memory usage: 21.9+ KB\n"
     ]
    }
   ],
   "source": [
    "valid_age = customers_data['age'].between(18, 80)\n",
    "age_clean_df = customers_data.loc[valid_age, :]\n",
    "age_clean_df.info()"
   ]
  },
  {
   "cell_type": "code",
   "execution_count": 36,
   "id": "2845c90b-8ef4-4785-b255-33f8d8f240c3",
   "metadata": {},
   "outputs": [
    {
     "data": {
      "text/html": [
       "<div>\n",
       "<style scoped>\n",
       "    .dataframe tbody tr th:only-of-type {\n",
       "        vertical-align: middle;\n",
       "    }\n",
       "\n",
       "    .dataframe tbody tr th {\n",
       "        vertical-align: top;\n",
       "    }\n",
       "\n",
       "    .dataframe thead th {\n",
       "        text-align: right;\n",
       "    }\n",
       "</style>\n",
       "<table border=\"1\" class=\"dataframe\">\n",
       "  <thead>\n",
       "    <tr style=\"text-align: right;\">\n",
       "      <th></th>\n",
       "      <th>id</th>\n",
       "      <th>age</th>\n",
       "    </tr>\n",
       "  </thead>\n",
       "  <tbody>\n",
       "    <tr>\n",
       "      <th>count</th>\n",
       "      <td>400.000000</td>\n",
       "      <td>400.000000</td>\n",
       "    </tr>\n",
       "    <tr>\n",
       "      <th>mean</th>\n",
       "      <td>1205.475000</td>\n",
       "      <td>28.622500</td>\n",
       "    </tr>\n",
       "    <tr>\n",
       "      <th>std</th>\n",
       "      <td>116.924496</td>\n",
       "      <td>9.753863</td>\n",
       "    </tr>\n",
       "    <tr>\n",
       "      <th>min</th>\n",
       "      <td>1002.000000</td>\n",
       "      <td>18.000000</td>\n",
       "    </tr>\n",
       "    <tr>\n",
       "      <th>25%</th>\n",
       "      <td>1105.750000</td>\n",
       "      <td>22.000000</td>\n",
       "    </tr>\n",
       "    <tr>\n",
       "      <th>50%</th>\n",
       "      <td>1206.500000</td>\n",
       "      <td>26.000000</td>\n",
       "    </tr>\n",
       "    <tr>\n",
       "      <th>75%</th>\n",
       "      <td>1306.250000</td>\n",
       "      <td>31.000000</td>\n",
       "    </tr>\n",
       "    <tr>\n",
       "      <th>max</th>\n",
       "      <td>1406.000000</td>\n",
       "      <td>75.000000</td>\n",
       "    </tr>\n",
       "  </tbody>\n",
       "</table>\n",
       "</div>"
      ],
      "text/plain": [
       "                id         age\n",
       "count   400.000000  400.000000\n",
       "mean   1205.475000   28.622500\n",
       "std     116.924496    9.753863\n",
       "min    1002.000000   18.000000\n",
       "25%    1105.750000   22.000000\n",
       "50%    1206.500000   26.000000\n",
       "75%    1306.250000   31.000000\n",
       "max    1406.000000   75.000000"
      ]
     },
     "execution_count": 36,
     "metadata": {},
     "output_type": "execute_result"
    }
   ],
   "source": [
    "age_clean_df.describe()"
   ]
  },
  {
   "cell_type": "code",
   "execution_count": 37,
   "id": "dce9cbb3-0d26-46a1-b292-adac4f846bf3",
   "metadata": {},
   "outputs": [
    {
     "name": "stdout",
     "output_type": "stream",
     "text": [
      "orginal data frame (406, 6)\n",
      "transformed data frame (400, 6)\n"
     ]
    }
   ],
   "source": [
    "print(\"orginal data frame\", customers_data.shape)\n",
    "print(\"transformed data frame\", age_clean_df.shape)"
   ]
  },
  {
   "cell_type": "code",
   "execution_count": 39,
   "id": "af371bb6-2e1e-4c0e-bb06-96fe55e554c9",
   "metadata": {},
   "outputs": [],
   "source": [
    "# Saving the orders_data to the specified path \"../data/hd_orders.csv\"\n",
    "# age_clean_df.to_csv(\"../data/customers_cleaned.csv\", index=False)"
   ]
  }
 ],
 "metadata": {
  "kernelspec": {
   "display_name": "Python 3 (ipykernel)",
   "language": "python",
   "name": "python3"
  },
  "language_info": {
   "codemirror_mode": {
    "name": "ipython",
    "version": 3
   },
   "file_extension": ".py",
   "mimetype": "text/x-python",
   "name": "python",
   "nbconvert_exporter": "python",
   "pygments_lexer": "ipython3",
   "version": "3.12.7"
  }
 },
 "nbformat": 4,
 "nbformat_minor": 5
}
